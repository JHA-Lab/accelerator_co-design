{
 "cells": [
  {
   "cell_type": "code",
   "execution_count": 1,
   "metadata": {},
   "outputs": [],
   "source": [
    "import os\n",
    "import sys\n",
    "sys.path.append('../../cnn_design-space/cnnbench/')\n",
    "sys.path.append('../../boshnas/boshnas/')\n",
    "sys.path.append('../')\n",
    "\n",
    "import argparse\n",
    "import numpy as np\n",
    "import yaml\n",
    "import random\n",
    "import tabulate\n",
    "import subprocess\n",
    "import time\n",
    "import json\n",
    "import hashlib\n",
    "import random\n",
    "\n",
    "import torch\n",
    "\n",
    "from six.moves import cPickle as pickle\n",
    "from tqdm import tqdm\n",
    "\n",
    "from boshnas_2inp import BOSHNAS as BOSHCODE\n",
    "from acq import gosh_acq as acq\n",
    "\n",
    "from run_boshcode import convert_to_tabular, update_dataset, get_neighbor_hash\n",
    "\n",
    "from matplotlib import pyplot as plt\n",
    "\n",
    "from library import GraphLib, Graph\n",
    "from utils import print_util as pu"
   ]
  },
  {
   "cell_type": "code",
   "execution_count": 2,
   "metadata": {},
   "outputs": [],
   "source": [
    "# Define paths\n",
    "graphlib_file = '../../cnn_design-space/cnnbench/dataset/dataset_mini.json'\n",
    "new_graphlib_file = './dataset_mini_trained.json'\n",
    "accel_embeddings_file = '../../accelerator_design-space/accelbench/embeddings/embeddings.pkl'\n",
    "cnn_config_file = '../../cnn_design-space/cnnbench/configs/CIFAR10/config.yaml'\n",
    "models_dir = '../../models'\n",
    "accel_dataset_file = '../accel_dataset/accel_dataset_mini_bkp.pkl'\n",
    "accel_dataset_file_trained = './accel_dataset_mini_trained.pkl'\n",
    "performance_weights = [0, 0.2, 0, 0.2, 0.1, 0.2, 0.3]"
   ]
  },
  {
   "cell_type": "code",
   "execution_count": 2,
   "metadata": {},
   "outputs": [
    {
     "name": "stdout",
     "output_type": "stream",
     "text": [
      "Trained CNN-Accelerator pair with hash: 293181b319b0deec6cfc31771b3c1464fe538f6f93d9eb22b2d73891d50e11fc, not in current dataset\n",
      "CNN-Accelerator pair with hash: d26935273a41e425dbef42f8a61ab57b4fba8483eababe4f044625410030f63a, doesn't have respective CNN trained (with hash: d74c8175e990c815efa1092f254fc65cef658f5051e36b404777a3b3bc31e059)\n",
      "CNN-Accelerator pair with hash: af95420c27b1e19b0a1fb8d1166fb646c8308cf89a34647765c71a9463db85b6, doesn't have respective CNN trained (with hash: a3c500d1cd395f12812fae0db02e72ff3ec9962a0c0e372dc812541f7ba038a2)\n",
      "CNN-Accelerator pair with hash: 95bd07e8360817122001ccb7bb73bb58d82c4bc50560d7ea877ccceede95b1d2, doesn't have respective CNN trained (with hash: d6b07ee2297fa76ab5e71507ca95ab73f9e6e95461cb856ac79b34818751aba8)\n",
      "CNN-Accelerator pair with hash: e883fa4f8988b3f67bd9e26ae334edb44d031a90851d22bb0566d64b0ac6cbec, doesn't have respective CNN trained (with hash: 1abf976cd9b816f2e37532b7cb82dba8732ffea628880c3a716b6f5d5a235b66)\n",
      "CNN-Accelerator pair with hash: 80c612677b7bb53dea8fe012488babc6a8e6547f06d1c5a3de9f13da8a7bfeaa, doesn't have respective CNN trained (with hash: 7d6a305b064b0e0f19d226192f154c64a97caca2bab62b0c352fe60ceae007e3)\n",
      "Trained CNN-Accelerator pair with hash: 5227ff8b5f50e650331c693f9f15d00db6f5eee701c1ebd3724cdb9b98f9ca2a, not in current dataset\n"
     ]
    },
    {
     "name": "stderr",
     "output_type": "stream",
     "text": [
      "\r",
      "Updating CNN-Accelerator library:   0%|          | 0/41 [00:00<?, ?it/s]"
     ]
    },
    {
     "name": "stdout",
     "output_type": "stream",
     "text": [
      "\u001b[92mDataset saved to:\u001b[0m ./dataset_mini_trained.json\n"
     ]
    },
    {
     "name": "stderr",
     "output_type": "stream",
     "text": [
      "Updating CNN-Accelerator library: 100%|██████████| 41/41 [00:01<00:00, 35.24it/s]\n"
     ]
    },
    {
     "name": "stdout",
     "output_type": "stream",
     "text": [
      "\n",
      "\u001b[92mTrained CNNs in dataset:\u001b[0m 25\n",
      "\u001b[92mSimulated CNN-Accelerator pairs:\u001b[0m 39\n",
      "\u001b[92mBest performance:\u001b[0m 0.9522054327578187\n",
      "\n"
     ]
    },
    {
     "name": "stderr",
     "output_type": "stream",
     "text": [
      "Converting dataset to tabular: 100%|██████████| 85630034/85630034 [00:50<00:00, 1705259.63it/s]\n"
     ]
    }
   ],
   "source": [
    "graphLib = GraphLib.load_from_dataset(graphlib_file)\n",
    "\n",
    "# accel_embeddings = pickle.load(open(accel_embeddings_file, 'rb'))\n",
    "# accel_embeddings = np.array(accel_embeddings)\n",
    "\n",
    "cnn_config = yaml.safe_load(open(cnn_config_file))\n",
    "\n",
    "cnn_models_dir = os.path.join(models_dir, 'cnnbench_models', cnn_config['dataset'])\n",
    "accel_models_dir = os.path.join(models_dir, 'accelbench_models')\n",
    "\n",
    "# Get trained CNN models and Accelerator architectures\n",
    "trained_cnn_hashes = os.listdir(cnn_models_dir)\n",
    "trained_cnn_hashes_new = []\n",
    "for cnn_hash in trained_cnn_hashes:\n",
    "    if 'model.pt' in os.listdir(os.path.join(cnn_models_dir, cnn_hash)): trained_cnn_hashes_new.append(cnn_hash)\n",
    "        \n",
    "trained_cnn_hashes = trained_cnn_hashes_new\n",
    "trained_accel_hashes = [accel_hash[:-4] for accel_hash in os.listdir(accel_models_dir)]\n",
    "\n",
    "# Load CNN-Accelerator pairs dataset\n",
    "accel_dataset = pickle.load(open(accel_dataset_file, 'rb'))\n",
    "\n",
    "accel_embeddings = [accel['accel_emb'].tolist() for accel in accel_dataset.values()]\n",
    "accel_embeddings = [str(elem) for elem in accel_embeddings]\n",
    "accel_embeddings = [eval(elem) for elem in set(accel_embeddings)]\n",
    "accel_embeddings = np.array(accel_embeddings)\n",
    "\n",
    "accel_hashes = list(accel_dataset.keys())\n",
    "\n",
    "# Check trained_accel_hashes have all respective CNNs trained\n",
    "trained_accel_hashes_new = []\n",
    "for accel_hash in trained_accel_hashes:\n",
    "    if accel_hash not in accel_hashes:\n",
    "        print(f'Trained CNN-Accelerator pair with hash: {accel_hash}, not in current dataset')\n",
    "        continue\n",
    "    cnn_hash = accel_dataset[accel_hash]['cnn_hash']\n",
    "    if cnn_hash not in trained_cnn_hashes:\n",
    "        print(f'CNN-Accelerator pair with hash: {accel_hash}, doesn\\'t have respective CNN trained (with hash: {cnn_hash})')\n",
    "    else:\n",
    "        trained_accel_hashes_new.append(accel_hash)\n",
    "        \n",
    "trained_accel_hashes = trained_accel_hashes_new\n",
    "\n",
    "old_best_performance = update_dataset(graphLib, accel_dataset, cnn_models_dir, accel_models_dir, \n",
    "    new_graphlib_file, accel_dataset_file_trained, performance_weights, save_dataset=False)\n",
    "\n",
    "# Get entire dataset in embedding space\n",
    "cnn_embeddings = []\n",
    "for graph in graphLib.library:\n",
    "    cnn_embeddings.append(graph.embedding)\n",
    "cnn_embeddings = np.array(cnn_embeddings)\n",
    "\n",
    "min_cnn, max_cnn = np.min(cnn_embeddings, axis=0), np.max(cnn_embeddings, axis=0)\n",
    "min_accel, max_accel = np.min(accel_embeddings, axis=0), np.max(accel_embeddings, axis=0)\n",
    "\n",
    "X_ds = []\n",
    "for cnn_idx in range(cnn_embeddings.shape[0]):\n",
    "    for accel_idx in range(accel_embeddings.shape[0]):\n",
    "        X_ds.append((cnn_embeddings[cnn_idx, :], accel_embeddings[accel_idx, :]))\n",
    "        \n",
    "# Initialize the two-input BOSHNAS model\n",
    "surrogate_model = BOSHCODE(input_dim1=cnn_embeddings.shape[1],\n",
    "                          input_dim2=accel_embeddings.shape[1],\n",
    "                          bounds1=(min_cnn, max_cnn),\n",
    "                          bounds2=(min_accel, max_accel),\n",
    "                          trust_region=False,\n",
    "                          second_order=True,\n",
    "                          parallel=True,\n",
    "                          model_aleatoric=True,\n",
    "                          save_path='./surrogate_model/',\n",
    "                          pretrained=False)\n",
    "\n",
    "# Get initial dataset after finetuning num_init models\n",
    "X_cnn, X_accel, y = convert_to_tabular(accel_dataset, graphLib, performance_weights)\n",
    "max_loss = np.amax(y)"
   ]
  },
  {
   "cell_type": "code",
   "execution_count": 8,
   "metadata": {},
   "outputs": [
    {
     "name": "stdout",
     "output_type": "stream",
     "text": [
      "Accelerator hash: 81a9133de2e7f24508d1459f076c42072492e2280088eb77c0167d1d209c3297\n",
      "CNN hash: e3a979c95f7b0716b4dc7b5f763e6f11ea659d350caff793e75352fe7791441f\n",
      "CNN neighbor: None\n"
     ]
    }
   ],
   "source": [
    "# Get next queries\n",
    "query_indices = surrogate_model.get_queries(x=X_ds, k=1, explore_type='ucb', use_al=False) \n",
    "\n",
    "# Run queries\n",
    "for i in set(query_indices):\n",
    "    accel_hash = accel_hashes[i]\n",
    "    accel_emb = accel_dataset[accel_hash]['accel_emb']\n",
    "\n",
    "    cnn_model, _ = graphLib.get_graph(model_hash=accel_dataset[accel_hash]['cnn_hash'])\n",
    "    chosen_neighbor_hash = get_neighbor_hash(cnn_model, trained_cnn_hashes)\n",
    "    \n",
    "    print(f'Accelerator hash: {accel_hash}\\nCNN hash: {cnn_model.hash}\\nCNN neighbor: {chosen_neighbor_hash}')"
   ]
  },
  {
   "cell_type": "code",
   "execution_count": 3,
   "metadata": {},
   "outputs": [
    {
     "name": "stderr",
     "output_type": "stream",
     "text": [
      "\r",
      "Updating CNN-Accelerator library:   0%|          | 0/47 [00:00<?, ?it/s]"
     ]
    },
    {
     "name": "stdout",
     "output_type": "stream",
     "text": [
      "\u001b[92mDataset saved to:\u001b[0m ./dataset_mini_trained.json\n"
     ]
    },
    {
     "name": "stderr",
     "output_type": "stream",
     "text": [
      "Updating CNN-Accelerator library: 100%|██████████| 47/47 [00:03<00:00, 12.16it/s]"
     ]
    },
    {
     "name": "stdout",
     "output_type": "stream",
     "text": [
      "\n",
      "\u001b[92mTrained CNNs in dataset:\u001b[0m 30\n",
      "\u001b[92mSimulated CNN-Accelerator pairs:\u001b[0m 45\n",
      "\u001b[92mBest performance:\u001b[0m 0.9522054327578187\n",
      "\u001b[92mBest CNN-Accelerator pair hash:\u001b[0m d8538572e9c68de1d836917553c56899474ed7b2a678094a1b80536f384ed60b\n",
      "\t\u001b[92mwith accelerator embedding: [ 2. 16.  8.  4.  8.  3.  3.  1. 12. 24.  4.  1.  1.]\n",
      "\t\u001b[92mwith CNN hash: 1da03cb835aa34f8ccbe0ecf6a025ff9e4f8536e1e1713e9a93c65523b7d885a\n",
      "\n"
     ]
    },
    {
     "name": "stderr",
     "output_type": "stream",
     "text": [
      "\n"
     ]
    },
    {
     "data": {
      "text/plain": [
       "0.9522054327578187"
      ]
     },
     "execution_count": 3,
     "metadata": {},
     "output_type": "execute_result"
    }
   ],
   "source": [
    "# Get best CNN-Accelerator pair\n",
    "graphLib = GraphLib.load_from_dataset(graphlib_file)\n",
    "accel_dataset = pickle.load(open(accel_dataset_file, 'rb'))\n",
    "\n",
    "cnn_config = yaml.safe_load(open(cnn_config_file))\n",
    "\n",
    "cnn_models_dir = os.path.join(models_dir, 'cnnbench_models', cnn_config['dataset'])\n",
    "accel_models_dir = os.path.join(models_dir, 'accelbench_models')\n",
    "\n",
    "update_dataset(graphLib, accel_dataset, cnn_models_dir, accel_models_dir, new_graphlib_file,\n",
    "               accel_dataset_file, performance_weights, save_dataset=False)"
   ]
  },
  {
   "cell_type": "code",
   "execution_count": 7,
   "metadata": {},
   "outputs": [
    {
     "data": {
      "text/plain": [
       "{'cnn_hash': '1da03cb835aa34f8ccbe0ecf6a025ff9e4f8536e1e1713e9a93c65523b7d885a',\n",
       " 'accel_emb': array([ 2., 16.,  8.,  4.,  8.,  3.,  3.,  1., 12., 24.,  4.,  1.,  1.]),\n",
       " 'train_acc': 91,\n",
       " 'val_acc': 91,\n",
       " 'test_acc': 90,\n",
       " 'latency': 0.005155195714285714,\n",
       " 'area': 230.06409445958403,\n",
       " 'dynamic_energy': 0.16929364005095301,\n",
       " 'leakage_energy': 0.07904152841156048}"
      ]
     },
     "execution_count": 7,
     "metadata": {},
     "output_type": "execute_result"
    }
   ],
   "source": [
    "# Get results for best CNN-Accelerator pair\n",
    "accel_dataset['d8538572e9c68de1d836917553c56899474ed7b2a678094a1b80536f384ed60b']"
   ]
  },
  {
   "cell_type": "code",
   "execution_count": 9,
   "metadata": {},
   "outputs": [
    {
     "data": {
      "text/plain": [
       "\u001b[95mModel parameters:\u001b[0m None\n",
       "\u001b[95mAccuracies:\u001b[0m {'train': 91, 'val': 91, 'test': 90}\n",
       "\u001b[95mEmbedding:\u001b[0m [-0.74761292  0.93418544 -1.73693525  0.70208478  0.22493379 -0.0327011\n",
       " -2.19611079 -1.96474414  1.1741313   0.48125566 -4.24622586 -0.85394738\n",
       " -3.37044424 -3.89781936 -3.07754661 -2.08106415]\n",
       "\u001b[95mHash:\u001b[0m 1da03cb835aa34f8ccbe0ecf6a025ff9e4f8536e1e1713e9a93c65523b7d885a\n",
       "\u001b[96mModule:\u001b[0m\n",
       "[[0 1 0 0]\n",
       " [0 0 1 0]\n",
       " [0 0 0 1]\n",
       " [0 0 0 0]]\n",
       "\u001b[96mLabels:\u001b[0m['input', 'conv7x7-c64-p3-s2-bn-relu', 'maxpool3x3-p1-s2', 'output']\n",
       "\u001b[96mModule:\u001b[0m\n",
       "[[0 1 0 1]\n",
       " [0 0 1 0]\n",
       " [0 0 0 1]\n",
       " [0 0 0 0]]\n",
       "\u001b[96mLabels:\u001b[0m['input', 'conv3x3-c64-p1-bn-relu', 'conv3x3-c64-p1-bn-relu', 'output']\n",
       "\u001b[96mModule:\u001b[0m\n",
       "[[0 1 0 1]\n",
       " [0 0 1 0]\n",
       " [0 0 0 1]\n",
       " [0 0 0 0]]\n",
       "\u001b[96mLabels:\u001b[0m['input', 'conv3x3-c64-p1-bn-relu', 'conv3x3-c64-p1-bn-relu', 'output']\n",
       "\u001b[96mModule:\u001b[0m\n",
       "[[0 1 0 1]\n",
       " [0 0 1 0]\n",
       " [0 0 0 1]\n",
       " [0 0 0 0]]\n",
       "\u001b[96mLabels:\u001b[0m['input', 'conv3x3-c128-p1-s2-bn-relu', 'conv3x3-c128-p1-s2-bn-relu', 'output']\n",
       "\u001b[96mModule:\u001b[0m\n",
       "[[0 1 0 1]\n",
       " [0 0 1 0]\n",
       " [0 0 0 1]\n",
       " [0 0 0 0]]\n",
       "\u001b[96mLabels:\u001b[0m['input', 'conv3x3-c128-p1-s2-bn-relu', 'conv3x3-c128-p1-s2-bn-relu', 'output']\n",
       "\u001b[96mModule:\u001b[0m\n",
       "[[0 1 0 1]\n",
       " [0 0 1 0]\n",
       " [0 0 0 1]\n",
       " [0 0 0 0]]\n",
       "\u001b[96mLabels:\u001b[0m['input', 'conv3x3-c256-p1-s2-bn-relu', 'conv3x3-c256-p1-s2-bn-relu', 'output']\n",
       "\u001b[96mModule:\u001b[0m\n",
       "[[0 1 0 1]\n",
       " [0 0 1 0]\n",
       " [0 0 0 1]\n",
       " [0 0 0 0]]\n",
       "\u001b[96mLabels:\u001b[0m['input', 'conv3x3-c256-p1-s2-bn-relu', 'conv3x3-c256-p1-s2-bn-relu', 'output']\n",
       "\u001b[96mModule:\u001b[0m\n",
       "[[0 1 0 1]\n",
       " [0 0 1 0]\n",
       " [0 0 0 1]\n",
       " [0 0 0 0]]\n",
       "\u001b[96mLabels:\u001b[0m['input', 'conv3x3-c512-p1-s2-bn-relu', 'conv3x3-c512-p1-s2-bn-relu', 'output']\n",
       "\u001b[96mModule:\u001b[0m\n",
       "[[0 1 0 1]\n",
       " [0 0 1 0]\n",
       " [0 0 0 1]\n",
       " [0 0 0 0]]\n",
       "\u001b[96mLabels:\u001b[0m['input', 'conv3x3-c512-p1-s2-bn-relu', 'conv3x3-c512-p1-s2-bn-relu', 'output']\n",
       "\u001b[96mModule:\u001b[0m\n",
       "[[0 1 0 0]\n",
       " [0 0 1 0]\n",
       " [0 0 0 1]\n",
       " [0 0 0 0]]\n",
       "\u001b[96mLabels:\u001b[0m['input', 'global-avg-pool', 'dense_classes', 'output']"
      ]
     },
     "execution_count": 9,
     "metadata": {},
     "output_type": "execute_result"
    }
   ],
   "source": [
    "# Get architecture of the CNN for the best CNN-Accelerator pair\n",
    "best_cnn, _ = graphLib.get_graph(model_hash='1da03cb835aa34f8ccbe0ecf6a025ff9e4f8536e1e1713e9a93c65523b7d885a')\n",
    "best_cnn"
   ]
  },
  {
   "cell_type": "code",
   "execution_count": 10,
   "metadata": {},
   "outputs": [
    {
     "name": "stdout",
     "output_type": "stream",
     "text": [
      "Best CNN accuracy: 94\n"
     ]
    },
    {
     "data": {
      "text/plain": [
       "\u001b[95mModel parameters:\u001b[0m None\n",
       "\u001b[95mAccuracies:\u001b[0m {'train': 95, 'val': 94, 'test': 95}\n",
       "\u001b[95mEmbedding:\u001b[0m [ 0.19181353  0.95851437 -2.78347401 -2.8573766   2.17741604 -2.9461723\n",
       " -5.94382971  4.33633605  6.4870782  -2.61751254  0.80879383  0.68090628\n",
       " -6.51998166  4.46232259  3.40987545 -2.03820301]\n",
       "\u001b[95mHash:\u001b[0m 3227a974145e3074af1fc3c9975b57b6d7b2fa2fa1e95b856f0b5f3b6af32e00\n",
       "\u001b[96mModule:\u001b[0m\n",
       "[[0 1 0 0]\n",
       " [0 0 1 0]\n",
       " [0 0 0 1]\n",
       " [0 0 0 0]]\n",
       "\u001b[96mLabels:\u001b[0m['input', 'conv3x3-c32-s2-bn-relu', 'conv3x3-c64-bn-relu', 'output']\n",
       "\u001b[96mModule:\u001b[0m\n",
       "[[0 1 0 0 0 0 1]\n",
       " [0 0 1 0 0 0 0]\n",
       " [0 0 0 1 0 0 0]\n",
       " [0 0 0 0 1 0 0]\n",
       " [0 0 0 0 0 1 0]\n",
       " [0 0 0 0 0 0 1]\n",
       " [0 0 0 0 0 0 0]]\n",
       "\u001b[96mLabels:\u001b[0m['input', 'conv3x3-c64-dw-p1-bn-relu', 'conv1x1-c128-bn-relu', 'conv3x3-c128-dw-p1-bn-relu', 'conv1x1-c128-bn-relu', 'maxpool3x3-p1-s2', 'output']\n",
       "\u001b[96mModule:\u001b[0m\n",
       "[[0 1 0 0 0 0 1]\n",
       " [0 0 1 0 0 0 0]\n",
       " [0 0 0 1 0 0 0]\n",
       " [0 0 0 0 1 0 0]\n",
       " [0 0 0 0 0 1 0]\n",
       " [0 0 0 0 0 0 1]\n",
       " [0 0 0 0 0 0 0]]\n",
       "\u001b[96mLabels:\u001b[0m['input', 'conv3x3-c128-dw-p1-bn-relu', 'conv1x1-c256-bn-relu', 'conv3x3-c256-dw-p1-bn-relu', 'conv1x1-c256-bn-relu', 'maxpool3x3-p1-s2', 'output']\n",
       "\u001b[96mModule:\u001b[0m\n",
       "[[0 1 0 0 0 0 1]\n",
       " [0 0 1 0 0 0 0]\n",
       " [0 0 0 1 0 0 0]\n",
       " [0 0 0 0 1 0 0]\n",
       " [0 0 0 0 0 1 0]\n",
       " [0 0 0 0 0 0 1]\n",
       " [0 0 0 0 0 0 0]]\n",
       "\u001b[96mLabels:\u001b[0m['input', 'conv3x3-c256-dw-p1-bn-relu', 'conv1x1-c728-bn-relu', 'conv3x3-c728-dw-p1-bn-relu', 'conv1x1-c728-bn-relu', 'maxpool3x3-p1-s2', 'output']\n",
       "\u001b[96mModule:\u001b[0m\n",
       "[[0 1 0 0 0 0 0 1]\n",
       " [0 0 1 0 0 0 0 0]\n",
       " [0 0 0 1 0 0 0 0]\n",
       " [0 0 0 0 1 0 0 0]\n",
       " [0 0 0 0 0 1 0 0]\n",
       " [0 0 0 0 0 0 1 0]\n",
       " [0 0 0 0 0 0 0 1]\n",
       " [0 0 0 0 0 0 0 0]]\n",
       "\u001b[96mLabels:\u001b[0m['input', 'conv3x3-c728-dw-p1-bn-relu', 'conv1x1-c728-bn-relu', 'conv3x3-c728-dw-p1-bn-relu', 'conv1x1-c728-bn-relu', 'conv3x3-c728-dw-p1-bn-relu', 'conv1x1-c728-bn-relu', 'output']\n",
       "\u001b[96mModule:\u001b[0m\n",
       "[[0 1 0 0 0 0 0 1]\n",
       " [0 0 1 0 0 0 0 0]\n",
       " [0 0 0 1 0 0 0 0]\n",
       " [0 0 0 0 1 0 0 0]\n",
       " [0 0 0 0 0 1 0 0]\n",
       " [0 0 0 0 0 0 1 0]\n",
       " [0 0 0 0 0 0 0 1]\n",
       " [0 0 0 0 0 0 0 0]]\n",
       "\u001b[96mLabels:\u001b[0m['input', 'conv3x3-c728-dw-p1-bn-relu', 'conv1x1-c728-bn-relu', 'conv3x3-c728-dw-p1-bn-relu', 'conv1x1-c728-bn-relu', 'conv3x3-c728-dw-p1-bn-relu', 'conv1x1-c728-bn-relu', 'output']\n",
       "\u001b[96mModule:\u001b[0m\n",
       "[[0 1 0 0 0 0 0 1]\n",
       " [0 0 1 0 0 0 0 0]\n",
       " [0 0 0 1 0 0 0 0]\n",
       " [0 0 0 0 1 0 0 0]\n",
       " [0 0 0 0 0 1 0 0]\n",
       " [0 0 0 0 0 0 1 0]\n",
       " [0 0 0 0 0 0 0 1]\n",
       " [0 0 0 0 0 0 0 0]]\n",
       "\u001b[96mLabels:\u001b[0m['input', 'conv3x3-c728-dw-p1-bn-relu', 'conv1x1-c728-bn-relu', 'conv3x3-c728-dw-p1-bn-relu', 'conv1x1-c728-bn-relu', 'conv3x3-c728-dw-p1-bn-relu', 'conv1x1-c728-bn-relu', 'output']\n",
       "\u001b[96mModule:\u001b[0m\n",
       "[[0 1 0 0 0 0 0 1]\n",
       " [0 0 1 0 0 0 0 0]\n",
       " [0 0 0 1 0 0 0 0]\n",
       " [0 0 0 0 1 0 0 0]\n",
       " [0 0 0 0 0 1 0 0]\n",
       " [0 0 0 0 0 0 1 0]\n",
       " [0 0 0 0 0 0 0 1]\n",
       " [0 0 0 0 0 0 0 0]]\n",
       "\u001b[96mLabels:\u001b[0m['input', 'conv3x3-c728-dw-p1-bn-relu', 'conv1x1-c728-bn-relu', 'conv3x3-c728-dw-p1-bn-relu', 'conv1x1-c728-bn-relu', 'conv3x3-c728-dw-p1-bn-relu', 'conv1x1-c728-bn-relu', 'output']\n",
       "\u001b[96mModule:\u001b[0m\n",
       "[[0 1 0 0 0 0 0 1]\n",
       " [0 0 1 0 0 0 0 0]\n",
       " [0 0 0 1 0 0 0 0]\n",
       " [0 0 0 0 1 0 0 0]\n",
       " [0 0 0 0 0 1 0 0]\n",
       " [0 0 0 0 0 0 1 0]\n",
       " [0 0 0 0 0 0 0 1]\n",
       " [0 0 0 0 0 0 0 0]]\n",
       "\u001b[96mLabels:\u001b[0m['input', 'conv3x3-c728-dw-p1-bn-relu', 'conv1x1-c728-bn-relu', 'conv3x3-c728-dw-p1-bn-relu', 'conv1x1-c728-bn-relu', 'conv3x3-c728-dw-p1-bn-relu', 'conv1x1-c728-bn-relu', 'output']\n",
       "\u001b[96mModule:\u001b[0m\n",
       "[[0 1 0 0 0 0 0 1]\n",
       " [0 0 1 0 0 0 0 0]\n",
       " [0 0 0 1 0 0 0 0]\n",
       " [0 0 0 0 1 0 0 0]\n",
       " [0 0 0 0 0 1 0 0]\n",
       " [0 0 0 0 0 0 1 0]\n",
       " [0 0 0 0 0 0 0 1]\n",
       " [0 0 0 0 0 0 0 0]]\n",
       "\u001b[96mLabels:\u001b[0m['input', 'conv3x3-c728-dw-p1-bn-relu', 'conv1x1-c728-bn-relu', 'conv3x3-c728-dw-p1-bn-relu', 'conv1x1-c728-bn-relu', 'conv3x3-c728-dw-p1-bn-relu', 'conv1x1-c728-bn-relu', 'output']\n",
       "\u001b[96mModule:\u001b[0m\n",
       "[[0 1 0 0 0 0 0 1]\n",
       " [0 0 1 0 0 0 0 0]\n",
       " [0 0 0 1 0 0 0 0]\n",
       " [0 0 0 0 1 0 0 0]\n",
       " [0 0 0 0 0 1 0 0]\n",
       " [0 0 0 0 0 0 1 0]\n",
       " [0 0 0 0 0 0 0 1]\n",
       " [0 0 0 0 0 0 0 0]]\n",
       "\u001b[96mLabels:\u001b[0m['input', 'conv3x3-c728-dw-p1-bn-relu', 'conv1x1-c728-bn-relu', 'conv3x3-c728-dw-p1-bn-relu', 'conv1x1-c728-bn-relu', 'conv3x3-c728-dw-p1-bn-relu', 'conv1x1-c728-bn-relu', 'output']\n",
       "\u001b[96mModule:\u001b[0m\n",
       "[[0 1 0 0 0 0 0 1]\n",
       " [0 0 1 0 0 0 0 0]\n",
       " [0 0 0 1 0 0 0 0]\n",
       " [0 0 0 0 1 0 0 0]\n",
       " [0 0 0 0 0 1 0 0]\n",
       " [0 0 0 0 0 0 1 0]\n",
       " [0 0 0 0 0 0 0 1]\n",
       " [0 0 0 0 0 0 0 0]]\n",
       "\u001b[96mLabels:\u001b[0m['input', 'conv3x3-c728-dw-p1-bn-relu', 'conv1x1-c728-bn-relu', 'conv3x3-c728-dw-p1-bn-relu', 'conv1x1-c728-bn-relu', 'conv3x3-c728-dw-p1-bn-relu', 'conv1x1-c728-bn-relu', 'output']\n",
       "\u001b[96mModule:\u001b[0m\n",
       "[[0 1 0 0 0 0 1]\n",
       " [0 0 1 0 0 0 0]\n",
       " [0 0 0 1 0 0 0]\n",
       " [0 0 0 0 1 0 0]\n",
       " [0 0 0 0 0 1 0]\n",
       " [0 0 0 0 0 0 1]\n",
       " [0 0 0 0 0 0 0]]\n",
       "\u001b[96mLabels:\u001b[0m['input', 'conv3x3-c728-dw-bn-relu', 'conv1x1-c728-bn-relu', 'conv3x3-c728-dw-bn-relu', 'conv1x1-c1024-bn-relu', 'maxpool3x3-p1-s2', 'output']\n",
       "\u001b[96mModule:\u001b[0m\n",
       "[[0 1 0 0 0 0]\n",
       " [0 0 1 0 0 0]\n",
       " [0 0 0 1 0 0]\n",
       " [0 0 0 0 1 0]\n",
       " [0 0 0 0 0 1]\n",
       " [0 0 0 0 0 0]]\n",
       "\u001b[96mLabels:\u001b[0m['input', 'conv3x3-c1024-dw-p1-bn-relu', 'conv1x1-c1536-bn-relu', 'conv3x3-c1536-dw-p1-bn-relu', 'conv1x1-c2048-bn-relu', 'output']\n",
       "\u001b[96mModule:\u001b[0m\n",
       "[[0 1 0 0 0]\n",
       " [0 0 1 0 0]\n",
       " [0 0 0 1 0]\n",
       " [0 0 0 0 1]\n",
       " [0 0 0 0 0]]\n",
       "\u001b[96mLabels:\u001b[0m['input', 'global-avg-pool', 'dense-1024-relu', 'dense_classes', 'output']"
      ]
     },
     "execution_count": 10,
     "metadata": {},
     "output_type": "execute_result"
    }
   ],
   "source": [
    "# Get the architecture of the best CNN simulated\n",
    "best_cnn_accuracy, best_cnn_graph = 0, None\n",
    "for cnn_model_hash in os.listdir(cnn_models_dir):\n",
    "    checkpoint_path = os.path.join(cnn_models_dir, cnn_model_hash, 'model.pt')\n",
    "    if os.path.exists(checkpoint_path):\n",
    "        model_checkpoint = torch.load(checkpoint_path, map_location=torch.device('cpu'))\n",
    "        model_graph, model_idx = graphLib.get_graph(model_hash=cnn_model_hash)\n",
    "        model_val_acc = model_checkpoint['val_accuracies'][-1]\n",
    "        if model_val_acc > best_cnn_accuracy:\n",
    "            best_cnn_accuracy = model_val_acc\n",
    "            best_cnn_graph = model_graph\n",
    "            \n",
    "print(f'Best CNN accuracy: {best_cnn_accuracy}')\n",
    "best_cnn_graph"
   ]
  },
  {
   "cell_type": "code",
   "execution_count": 4,
   "metadata": {},
   "outputs": [
    {
     "name": "stdout",
     "output_type": "stream",
     "text": [
      "Minimum latency: 0.005155195714285714\n"
     ]
    },
    {
     "data": {
      "image/png": "[encoded data removed]",
      "text/plain": [
       "<Figure size 432x288 with 1 Axes>"
      ]
     },
     "metadata": {
      "needs_background": "light"
     },
     "output_type": "display_data"
    },
    {
     "data": {
      "image/png": "[encoded data removed]",
      "text/plain": [
       "<Figure size 432x288 with 1 Axes>"
      ]
     },
     "metadata": {
      "needs_background": "light"
     },
     "output_type": "display_data"
    },
    {
     "data": {
      "image/png": "[encoded data removed]",
      "text/plain": [
       "<Figure size 432x288 with 1 Axes>"
      ]
     },
     "metadata": {
      "needs_background": "light"
     },
     "output_type": "display_data"
    },
    {
     "data": {
      "image/png": "[encoded data removed]",
      "text/plain": [
       "<Figure size 432x288 with 1 Axes>"
      ]
     },
     "metadata": {
      "needs_background": "light"
     },
     "output_type": "display_data"
    },
    {
     "name": "stdout",
     "output_type": "stream",
     "text": [
      "Minimum total energy: 0.07593165093777933\n"
     ]
    }
   ],
   "source": [
    "# Plot accuracy vs latency, area, dynamic and leakage energies\n",
    "%matplotlib inline\n",
    "\n",
    "colors = {'latency': '#4292C6', 'area': '#238B45', 'dynamic_energy': '#F1C40F', 'leakage_energy': '#E67E22',\n",
    "         'accuracy': '#916946'}\n",
    "\n",
    "MAX_LATENCY = 1 # Maximum latency in seconds\n",
    "MAX_AREA = 1000 # Maximum area in mm^2\n",
    "MAX_DYNAMIC_ENERGY = 10 # Maximum dynamic energy in Joules\n",
    "MAX_LEAKAGE_ENERGY = 10 # Maximum leakage energy in Joules\n",
    "\n",
    "spring_mobilenet_hash = '63bd29899005bdd1f2bce7c1f8f67588408315a9ef5c39b12d000419376b973d'\n",
    "\n",
    "metric_labels = {'latency': 'Latency', 'area': 'Area', 'dynamic_energy': 'Dyn. Energy', \n",
    "                'leakage_energy': 'Leak. Energy', 'accuracy': 'Accuracy'} \n",
    "metric_axis_labels = {'latency': 'Latency (s)', 'area': 'Area (mm$^2$)', 'dynamic_energy': 'Dyn. Energy (J)', \n",
    "                'leakage_energy': 'Leak. Energy (J)', 'accuracy': 'Accuracy'} \n",
    "metric_norm = {'latency': MAX_LATENCY, 'area': MAX_AREA, 'dynamic_energy': MAX_DYNAMIC_ENERGY, \n",
    "              'leakage_energy': MAX_LEAKAGE_ENERGY, 'accuracy': 1}\n",
    "\n",
    "for metric in metric_labels.keys():\n",
    "    if metric == 'accuracy': continue\n",
    "    \n",
    "    fig, ax = plt.subplots()\n",
    "    simulated_results = [result for result in accel_dataset.values() \n",
    "        if result['val_acc'] is not None and result[metric] is not None]\n",
    "    ax.scatter([result[metric] for result in simulated_results],\n",
    "               [result['val_acc'] for result in simulated_results], \n",
    "               color=colors[metric])\n",
    "    if metric == 'latency':\n",
    "        delay_results = [result[metric] for result in simulated_results]\n",
    "        print(f'Minimum latency: {min([result[metric] for result in simulated_results])}')\n",
    "    elif metric == 'dynamic_energy':\n",
    "        dyn_energy_results = [result[metric] for result in simulated_results]\n",
    "        min_dyn_energy = min([result[metric] for result in simulated_results])\n",
    "    elif metric == 'leakage_energy':\n",
    "        leak_energy_results = [result[metric] for result in simulated_results]\n",
    "        min_leak_energy = min([result[metric] for result in simulated_results])\n",
    "    ax.scatter([accel_dataset[spring_mobilenet_hash][metric]], \n",
    "               [accel_dataset[spring_mobilenet_hash]['val_acc']], color='r')\n",
    "    ax.set_xlabel(metric_axis_labels[metric], fontsize=12)\n",
    "    if metric == 'latency':\n",
    "        ax.set_xlim([-0.05, 0.55])\n",
    "        ax.set_xticks([0, 0.1, 0.2, 0.3, 0.4, 0.5])\n",
    "    if metric == 'area':\n",
    "        ax.set_xlim([-20, 270])\n",
    "        ax.set_xticks([0, 50, 100, 150, 200, 250])\n",
    "    if metric == 'dynamic_energy':\n",
    "        ax.set_xlim([-20, 220])\n",
    "        ax.set_xticks([0, 50, 100, 150, 200])\n",
    "    if metric == 'leakage_energy':\n",
    "        ax.set_xlim([-5, 25])\n",
    "        ax.set_xticks([0, 5, 10, 15, 20])\n",
    "    ax.set_ylabel('Accuracy (%)', fontsize=12)\n",
    "    ax.set_ylim([0, 100])\n",
    "    ax.set_yticks([10, 20, 30, 40, 50, 60, 70, 80, 90])\n",
    "    plt.grid(linestyle='--')\n",
    "#     plt.savefig(f'../figures/pareto_frontier_{metric}.pdf', bbox_inches = 'tight')\n",
    "    plt.show()\n",
    "    \n",
    "print(f'Minimum total energy: {min_dyn_energy + min_leak_energy}')"
   ]
  },
  {
   "cell_type": "code",
   "execution_count": 12,
   "metadata": {},
   "outputs": [
    {
     "data": {
      "image/png": "[encoded data removed]",
      "text/plain": [
       "<Figure size 432x288 with 1 Axes>"
      ]
     },
     "metadata": {
      "needs_background": "light"
     },
     "output_type": "display_data"
    }
   ],
   "source": [
    "edp_results = [delay_results[i]*(dyn_energy_results[i] + leak_energy_results[i]) for i in range(len(delay_results))]\n",
    "\n",
    "fig, ax = plt.subplots()\n",
    "ax.scatter(edp_results, [result['val_acc'] for result in simulated_results], color=colors['accuracy'])\n",
    "ax.set_xlabel('Energy Delay Product (J-s)', fontsize=12)\n",
    "ax.set_ylabel('Accuracy (%)', fontsize=12)\n",
    "ax.set_ylim([0, 100])\n",
    "ax.set_yticks([10, 20, 30, 40, 50, 60, 70, 80, 90])\n",
    "ax.set_xlim([-5, 65])\n",
    "plt.grid(linestyle='--')\n",
    "plt.savefig('../figures/pareto_frontier_edp.pdf', bbox_inches = 'tight')\n",
    "plt.show()"
   ]
  }
 ],
 "metadata": {
  "kernelspec": {
   "display_name": "cnnbench [~/.conda/envs/cnnbench/]",
   "language": "python",
   "name": "conda_cnnbench"
  },
  "language_info": {
   "codemirror_mode": {
    "name": "ipython",
    "version": 3
   },
   "file_extension": ".py",
   "mimetype": "text/x-python",
   "name": "python",
   "nbconvert_exporter": "python",
   "pygments_lexer": "ipython3",
   "version": "3.8.10"
  }
 },
 "nbformat": 4,
 "nbformat_minor": 4
}
